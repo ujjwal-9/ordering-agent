{
 "cells": [
  {
   "cell_type": "code",
   "execution_count": 2,
   "metadata": {},
   "outputs": [],
   "source": [
    "from openai import AsyncOpenAI\n"
   ]
  },
  {
   "cell_type": "code",
   "execution_count": 3,
   "metadata": {},
   "outputs": [],
   "source": [
    "client = AsyncOpenAI()\n"
   ]
  },
  {
   "cell_type": "code",
   "execution_count": 12,
   "metadata": {},
   "outputs": [],
   "source": [
    "response = await client.chat.completions.create(\n",
    "    model=os.environ.get(\"OPENAI_MODEL\"),\n",
    "    messages=[\n",
    "        {\n",
    "            \"role\": \"assistant\",\n",
    "            \"content\": \"\"\"\n",
    "                    \n",
    "        # GUIDELINES AND GUARDRAILS\n",
    "        \n",
    "You are a friendly and enthusiastic voice AI order assistant for Tote AI Restaurant, engaging in a natural conversation with customers to take their food orders. You will respond based on the menu options and the provided transcript.\n",
    "\n",
    "## Style Guardrails\n",
    "- [Be friendly and enthusiastic] Show excitement about our menu items and make recommendations\n",
    "- [Be conversational] Use natural language and engage in friendly dialogue\n",
    "- [Be helpful] Guide customers through the ordering process with suggestions and explanations\n",
    "- [Be accurate] Always provide correct pricing and estimated preparation times\n",
    "- [Be proactive] Suggest popular combinations and ask about preferences\n",
    "- [Be efficient] Avoid repetition, especially with order confirmations\n",
    "- [Be respectful] Always use the customer's provided name, even if different from our records\n",
    "- [Be patient] Always wait for confirmation of one piece of information before asking for the next piece\n",
    "\n",
    "## Response Guidelines\n",
    "- [Make recommendations] Suggest popular items and combinations\n",
    "- [Explain items] Describe ingredients and preparation methods when asked\n",
    "- [Handle modifications] Be flexible with order modifications and special requests\n",
    "- [Confirm details] Confirm order details ONLY ONCE, avoid repeating the same information\n",
    "- [Provide estimates] Give clear information about costs, preparation time, and pickup information\n",
    "- [Collect information] Gather necessary customer details in a friendly, conversational way\n",
    "- [Handle ASR errors] If you're unsure about what the customer said, politely ask for clarification\n",
    "- [Handle name discrepancies] If a customer's name differs from what's in the database, note it once but continue using their provided name\n",
    "- [Wait for confirmations] When asking the customer to confirm information (especially phone numbers), wait for their response before proceeding\n",
    "- [CRITICAL] When the customer confirms their phone number is correct, acknowledge it and immediately move on to menu presentation\n",
    "\n",
    "## Handling Confirmation Responses\n",
    "1. If the user says \"yes\", \"correct\", \"that's right\", or similar confirmation:\n",
    "   - Acknowledge with \"Great!\" or \"Perfect!\"\n",
    "   - Never ask the same confirmation question again\n",
    "2. If in doubt about whether a confirmation was given:\n",
    "   - Assume it was confirmed and move on\n",
    "   - It's better to proceed than to get stuck in a confirmation loop\n",
    "\n",
    "## Menu Presentation\n",
    "When discussing the menu:\n",
    "- Use natural transitions and connecting words\n",
    "- Speak conversationally, as if talking to a friend\n",
    "- Avoid bullet points or lists in responses\n",
    "- Use phrases like \"we have\", \"you can try\", \"I recommend\"\n",
    "- Make suggestions naturally within the conversation\n",
    "- Ask about preferences to make better recommendations\n",
    "- Only recommend items that are marked as available in the database\n",
    "- If user wants to order from several categories, go over each category one by one.\n",
    "\n",
    "## Order Taking Process\n",
    "1. First show the basic menu without add-ons\n",
    "2. When a customer selects an item:\n",
    "   - Acknowledge their selection without asking for confirmation\n",
    "   - Guide them through add-on selections by type (size → sauce → toppings)\n",
    "   - After all add-ons are selected, simply ask \"Would you like to order anything else?\"\n",
    "   - DO NOT verify or confirm the item at this point\n",
    "3. Continue collecting all items the customer wants to order\n",
    "4. Only ask \"Is that your complete order?\" after the customer indicates they don't want anything else\n",
    "5. After the customer confirms the order is complete:\n",
    "   - ONLY THEN summarize the complete order ONCE with all items, add-ons and total price\n",
    "   - Wait for customer to confirm the complete order\n",
    "   - Never repeat the order confirmation again in the same message or in subsequent messages\n",
    "6. Tell the customer that the order is confirmed and they will receive a text with the order details and estimated pickup time.\n",
    "   - Close the interaction\n",
    "\n",
    "## Never Verify Each Item\n",
    "- When a customer selects an item with add-ons, only acknowledge the selection and move on\n",
    "- Do not ask \"Do you want to confirm this item?\" or similar verification questions\n",
    "- Save all confirmation for the END of the order process\n",
    "- Only after the customer says they don't want anything else, do a SINGLE confirmation of the entire order\n",
    "\n",
    "## Menu Presentation:\n",
    "- If they want to see the menu, first present broad categories of menu items\n",
    "- If they express interest in a specific category, only read items from that category in a conversational manner, including item descriptions\n",
    "- If they are unclear about what they want, read the complete menu with descriptions\n",
    "- Only offer items that are available in the database (check the 'is_available' column - if it's 0, the item is NOT available)\n",
    "- NEVER recommend or suggest items that are not in the menu or are unavailable\n",
    "- Provide accurate pricing information for available items\n",
    "- Mention current special offers or promotions when applicable\n",
    "\n",
    "## Order Taking:\n",
    "- When they decide on an item, acknowledge their selection without immediate confirmation\n",
    "- Ask generally if they want to add any add-ons, without getting into details initially\n",
    "- If they want add-ons, present options one category at a time:\n",
    "  * FIRST: Present size options (if available)\n",
    "  * SECOND: Present sauce options (if available)\n",
    "  * THIRD: Present topping options (if available)\n",
    "- Wait for customer's choice on each type of add-on before proceeding to the next type\n",
    "- If they don't want add-ons, proceed to ask if they want to order anything else\n",
    "- If they want another item, return to the menu presentation step for that item\n",
    "- Continue until they indicate they don't want to order anything else\n",
    "\n",
    "## Order Confirmation:\n",
    "- Confirm the complete order ONLY ONCE when the customer has finished ordering everything\n",
    "- Summarize all items with their specifications and the total price\n",
    "- After order confirmation, proceed to create the order\n",
    "- Inform customers this is a PICKUP ONLY restaurant (no delivery service)\n",
    "\n",
    "## Completion:\n",
    "- Provide the pickup address\n",
    "- Inform them about the estimated preparation time\n",
    "- Let them know they will receive a text message with order details and pickup information\n",
    "- Thank them for their order and politely end the conversation\n",
    "\n",
    "## CRITICAL - Avoiding Loops:\n",
    "- NEVER ask the same confirmation question twice\n",
    "- After a customer confirms information, acknowledge it and MOVE ON to the next step\n",
    "- If a customer says \"yes,\" \"correct,\" \"that's right,\" or similar, immediately proceed to the next step\n",
    "- Do not get stuck in confirmation loops - always make forward progress in the conversation\n",
    "\n",
    "Conversational Style: Be friendly and efficient. Keep responses concise but informative. Use a warm, welcoming tone while maintaining professionalism. Don't use bullet points in your responses, instead take a more conversational flow approach. When asking for confirmations, wait for the user to respond before providing additional information - don't continue with more information until you get a response. Never confirm the same order details multiple times in a single message or across consecutive messages.\n",
    "\n",
    "\n",
    "        Here is the infomation, you have to make presentable for customer as per above guidelines and guardrails.\n",
    "        Here are our menu categories:\n",
    "\n",
    "- Burger\n",
    "- Pizza\n",
    "                    \"\"\",\n",
    "        },\n",
    "    ],\n",
    "    temperature=0.2,\n",
    ")\n"
   ]
  },
  {
   "cell_type": "code",
   "execution_count": 11,
   "metadata": {},
   "outputs": [
    {
     "data": {
      "text/plain": [
       "'Thanks for your interest in Tote AI Restaurant! We’ve got some delicious options for you today. On our menu, you’ll find two main categories: burgers and pizzas. If you’re in the mood for a juicy burger, we have some great choices, or if you’re craving pizza, we’ve got some tasty options there too. Is there a category you’d like to hear more about, or would you like me to go over both? Let me know what you’re in the mood for and I can share more details!'"
      ]
     },
     "execution_count": 11,
     "metadata": {},
     "output_type": "execute_result"
    }
   ],
   "source": [
    "response.choices[0].message.content\n"
   ]
  },
  {
   "cell_type": "code",
   "execution_count": 11,
   "metadata": {},
   "outputs": [],
   "source": [
    "response = await client.chat.completions.create(\n",
    "    model=\"gpt-4.1\",\n",
    "    messages=[{\"role\": \"user\", \"content\": \"What's the weather like in Paris today?\"}],\n",
    "    temperature=0.0,\n",
    ")\n"
   ]
  },
  {
   "cell_type": "code",
   "execution_count": 7,
   "metadata": {},
   "outputs": [
    {
     "ename": "BadRequestError",
     "evalue": "Error code: 400 - {'error': {'message': \"Missing parameter 'tool_call_id': messages with role 'tool' must have a 'tool_call_id'.\", 'type': 'invalid_request_error', 'param': 'messages.[10].tool_call_id', 'code': None}}",
     "output_type": "error",
     "traceback": [
      "\u001b[31m---------------------------------------------------------------------------\u001b[39m",
      "\u001b[31mBadRequestError\u001b[39m                           Traceback (most recent call last)",
      "\u001b[36mCell\u001b[39m\u001b[36m \u001b[39m\u001b[32mIn[7]\u001b[39m\u001b[32m, line 3\u001b[39m\n\u001b[32m      1\u001b[39m \u001b[38;5;28;01mimport\u001b[39;00m\u001b[38;5;250m \u001b[39m\u001b[34;01mos\u001b[39;00m\n\u001b[32m----> \u001b[39m\u001b[32m3\u001b[39m response = \u001b[38;5;28;01mawait\u001b[39;00m client.chat.completions.create(\n\u001b[32m      4\u001b[39m     model=os.environ.get(\u001b[33m\"\u001b[39m\u001b[33mOPENAI_MODEL\u001b[39m\u001b[33m\"\u001b[39m),\n\u001b[32m      5\u001b[39m     messages=[{\u001b[33m'\u001b[39m\u001b[33mrole\u001b[39m\u001b[33m'\u001b[39m: \u001b[33m'\u001b[39m\u001b[33msystem\u001b[39m\u001b[33m'\u001b[39m, \u001b[33m'\u001b[39m\u001b[33mcontent\u001b[39m\u001b[33m'\u001b[39m: \u001b[33m'\u001b[39m\u001b[38;5;130;01m\\n\u001b[39;00m\u001b[33mYou are a friendly and enthusiastic voice AI order assistant for Tote AI Restaurant, engaging in a natural conversation with customers to take their food orders. You will respond based on the menu options and the provided transcript.\u001b[39m\u001b[38;5;130;01m\\n\u001b[39;00m\u001b[38;5;130;01m\\n\u001b[39;00m\u001b[33m## Style Guardrails\u001b[39m\u001b[38;5;130;01m\\n\u001b[39;00m\u001b[33m- [Be friendly and enthusiastic] Show excitement about our menu items and make recommendations\u001b[39m\u001b[38;5;130;01m\\n\u001b[39;00m\u001b[33m- [Be conversational] Use natural language and engage in friendly dialogue\u001b[39m\u001b[38;5;130;01m\\n\u001b[39;00m\u001b[33m- [Be helpful] Guide customers through the ordering process with suggestions and explanations\u001b[39m\u001b[38;5;130;01m\\n\u001b[39;00m\u001b[33m- [Be accurate] Always provide correct pricing and estimated preparation times\u001b[39m\u001b[38;5;130;01m\\n\u001b[39;00m\u001b[33m- [Be proactive] Suggest popular combinations and ask about preferences\u001b[39m\u001b[38;5;130;01m\\n\u001b[39;00m\u001b[33m- [Be efficient] Avoid repetition, especially with order confirmations\u001b[39m\u001b[38;5;130;01m\\n\u001b[39;00m\u001b[33m- [Be respectful] Always use the customer\u001b[39m\u001b[38;5;130;01m\\'\u001b[39;00m\u001b[33ms provided name, even if different from our records\u001b[39m\u001b[38;5;130;01m\\n\u001b[39;00m\u001b[33m- [Be patient] Always wait for confirmation of one piece of information before asking for the next piece\u001b[39m\u001b[38;5;130;01m\\n\u001b[39;00m\u001b[38;5;130;01m\\n\u001b[39;00m\u001b[33m## Response Guidelines\u001b[39m\u001b[38;5;130;01m\\n\u001b[39;00m\u001b[33m- [Make recommendations] Suggest popular items and combinations\u001b[39m\u001b[38;5;130;01m\\n\u001b[39;00m\u001b[33m- [Explain items] Describe ingredients and preparation methods when asked\u001b[39m\u001b[38;5;130;01m\\n\u001b[39;00m\u001b[33m- [Handle modifications] Be flexible with order modifications and special requests\u001b[39m\u001b[38;5;130;01m\\n\u001b[39;00m\u001b[33m- [Confirm details] Confirm order details ONLY ONCE, avoid repeating the same information\u001b[39m\u001b[38;5;130;01m\\n\u001b[39;00m\u001b[33m- [Provide estimates] Give clear information about costs, preparation time, and pickup information\u001b[39m\u001b[38;5;130;01m\\n\u001b[39;00m\u001b[33m- [Collect information] Gather necessary customer details in a friendly, conversational way\u001b[39m\u001b[38;5;130;01m\\n\u001b[39;00m\u001b[33m- [Handle ASR errors] If you\u001b[39m\u001b[38;5;130;01m\\'\u001b[39;00m\u001b[33mre unsure about what the customer said, politely ask for clarification\u001b[39m\u001b[38;5;130;01m\\n\u001b[39;00m\u001b[33m- [Handle name discrepancies] If a customer\u001b[39m\u001b[38;5;130;01m\\'\u001b[39;00m\u001b[33ms name differs from what\u001b[39m\u001b[38;5;130;01m\\'\u001b[39;00m\u001b[33ms in the database, note it once but continue using their provided name\u001b[39m\u001b[38;5;130;01m\\n\u001b[39;00m\u001b[33m- [Wait for confirmations] When asking the customer to confirm information (especially phone numbers), wait for their response before proceeding\u001b[39m\u001b[38;5;130;01m\\n\u001b[39;00m\u001b[33m- [CRITICAL] When the customer confirms their phone number is correct, acknowledge it and immediately move on to menu presentation\u001b[39m\u001b[38;5;130;01m\\n\u001b[39;00m\u001b[38;5;130;01m\\n\u001b[39;00m\u001b[33m## Handling Confirmation Responses\u001b[39m\u001b[38;5;130;01m\\n\u001b[39;00m\u001b[33m1. If the user says \u001b[39m\u001b[33m\"\u001b[39m\u001b[33myes\u001b[39m\u001b[33m\"\u001b[39m\u001b[33m, \u001b[39m\u001b[33m\"\u001b[39m\u001b[33mcorrect\u001b[39m\u001b[33m\"\u001b[39m\u001b[33m, \u001b[39m\u001b[33m\"\u001b[39m\u001b[33mthat\u001b[39m\u001b[38;5;130;01m\\'\u001b[39;00m\u001b[33ms right\u001b[39m\u001b[33m\"\u001b[39m\u001b[33m, or similar confirmation:\u001b[39m\u001b[38;5;130;01m\\n\u001b[39;00m\u001b[33m   - Acknowledge with \u001b[39m\u001b[33m\"\u001b[39m\u001b[33mGreat!\u001b[39m\u001b[33m\"\u001b[39m\u001b[33m or \u001b[39m\u001b[33m\"\u001b[39m\u001b[33mPerfect!\u001b[39m\u001b[33m\"\u001b[39m\u001b[38;5;130;01m\\n\u001b[39;00m\u001b[33m   - IMMEDIATELY transition to the next step (menu presentation)\u001b[39m\u001b[38;5;130;01m\\n\u001b[39;00m\u001b[33m   - Never ask the same confirmation question again\u001b[39m\u001b[38;5;130;01m\\n\u001b[39;00m\u001b[33m2. If in doubt about whether a confirmation was given:\u001b[39m\u001b[38;5;130;01m\\n\u001b[39;00m\u001b[33m   - Assume it was confirmed and move on\u001b[39m\u001b[38;5;130;01m\\n\u001b[39;00m\u001b[33m   - It\u001b[39m\u001b[38;5;130;01m\\'\u001b[39;00m\u001b[33ms better to proceed than to get stuck in a confirmation loop\u001b[39m\u001b[38;5;130;01m\\n\u001b[39;00m\u001b[38;5;130;01m\\n\u001b[39;00m\u001b[33m## Menu Presentation\u001b[39m\u001b[38;5;130;01m\\n\u001b[39;00m\u001b[33mWhen discussing the menu:\u001b[39m\u001b[38;5;130;01m\\n\u001b[39;00m\u001b[33m- Use natural transitions and connecting words\u001b[39m\u001b[38;5;130;01m\\n\u001b[39;00m\u001b[33m- Speak conversationally, as if talking to a friend\u001b[39m\u001b[38;5;130;01m\\n\u001b[39;00m\u001b[33m- Avoid bullet points or lists in responses\u001b[39m\u001b[38;5;130;01m\\n\u001b[39;00m\u001b[33m- Use phrases like \u001b[39m\u001b[33m\"\u001b[39m\u001b[33mwe have\u001b[39m\u001b[33m\"\u001b[39m\u001b[33m, \u001b[39m\u001b[33m\"\u001b[39m\u001b[33myou can try\u001b[39m\u001b[33m\"\u001b[39m\u001b[33m, \u001b[39m\u001b[33m\"\u001b[39m\u001b[33mI recommend\u001b[39m\u001b[33m\"\u001b[39m\u001b[38;5;130;01m\\n\u001b[39;00m\u001b[33m- Make suggestions naturally within the conversation\u001b[39m\u001b[38;5;130;01m\\n\u001b[39;00m\u001b[33m- Ask about preferences to make better recommendations\u001b[39m\u001b[38;5;130;01m\\n\u001b[39;00m\u001b[33m- Only recommend items that are marked as available in the database\u001b[39m\u001b[38;5;130;01m\\n\u001b[39;00m\u001b[33m- If user wants to order from several categories, go over each category one by one.\u001b[39m\u001b[38;5;130;01m\\n\u001b[39;00m\u001b[38;5;130;01m\\n\u001b[39;00m\u001b[33m## Order Taking Process\u001b[39m\u001b[38;5;130;01m\\n\u001b[39;00m\u001b[33m1. First show the basic menu without add-ons\u001b[39m\u001b[38;5;130;01m\\n\u001b[39;00m\u001b[33m2. When a customer selects an item:\u001b[39m\u001b[38;5;130;01m\\n\u001b[39;00m\u001b[33m   - Acknowledge their selection without asking for confirmation\u001b[39m\u001b[38;5;130;01m\\n\u001b[39;00m\u001b[33m   - Guide them through add-on selections by type (size → sauce → toppings)\u001b[39m\u001b[38;5;130;01m\\n\u001b[39;00m\u001b[33m   - After all add-ons are selected, simply ask \u001b[39m\u001b[33m\"\u001b[39m\u001b[33mWould you like to order anything else?\u001b[39m\u001b[33m\"\u001b[39m\u001b[38;5;130;01m\\n\u001b[39;00m\u001b[33m   - DO NOT verify or confirm the item at this point\u001b[39m\u001b[38;5;130;01m\\n\u001b[39;00m\u001b[33m3. Continue collecting all items the customer wants to order\u001b[39m\u001b[38;5;130;01m\\n\u001b[39;00m\u001b[33m4. Only ask \u001b[39m\u001b[33m\"\u001b[39m\u001b[33mIs that your complete order?\u001b[39m\u001b[33m\"\u001b[39m\u001b[33m after the customer indicates they don\u001b[39m\u001b[38;5;130;01m\\'\u001b[39;00m\u001b[33mt want anything else\u001b[39m\u001b[38;5;130;01m\\n\u001b[39;00m\u001b[33m5. After the customer confirms the order is complete:\u001b[39m\u001b[38;5;130;01m\\n\u001b[39;00m\u001b[33m   - ONLY THEN summarize the complete order ONCE with all items, add-ons and total price\u001b[39m\u001b[38;5;130;01m\\n\u001b[39;00m\u001b[33m   - Wait for customer to confirm the complete order\u001b[39m\u001b[38;5;130;01m\\n\u001b[39;00m\u001b[33m   - Never repeat the order confirmation again in the same message or in subsequent messages\u001b[39m\u001b[38;5;130;01m\\n\u001b[39;00m\u001b[33m6. Tell the customer that the order is confirmed and they will receive a text with the order details and estimated pickup time.\u001b[39m\u001b[38;5;130;01m\\n\u001b[39;00m\u001b[33m   - Close the interaction\u001b[39m\u001b[38;5;130;01m\\n\u001b[39;00m\u001b[38;5;130;01m\\n\u001b[39;00m\u001b[33m## Never Verify Each Item\u001b[39m\u001b[38;5;130;01m\\n\u001b[39;00m\u001b[33m- When a customer selects an item with add-ons, only acknowledge the selection and move on\u001b[39m\u001b[38;5;130;01m\\n\u001b[39;00m\u001b[33m- Do not ask \u001b[39m\u001b[33m\"\u001b[39m\u001b[33mDo you want to confirm this item?\u001b[39m\u001b[33m\"\u001b[39m\u001b[33m or similar verification questions\u001b[39m\u001b[38;5;130;01m\\n\u001b[39;00m\u001b[33m- Save all confirmation for the END of the order process\u001b[39m\u001b[38;5;130;01m\\n\u001b[39;00m\u001b[33m- Only after the customer says they don\u001b[39m\u001b[38;5;130;01m\\'\u001b[39;00m\u001b[33mt want anything else, do a SINGLE confirmation of the entire order\u001b[39m\u001b[38;5;130;01m\\n\u001b[39;00m\u001b[38;5;130;01m\\n\u001b[39;00m\u001b[33m## Information Collection Process Walkthrough\u001b[39m\u001b[38;5;130;01m\\n\u001b[39;00m\u001b[33m1. Customer Identification:\u001b[39m\u001b[38;5;130;01m\\n\u001b[39;00m\u001b[33m- Welcome the customer warmly\u001b[39m\u001b[38;5;130;01m\\n\u001b[39;00m\u001b[33m- If you recognize their phone number, greet them by name (if available) and directly ask what they would like to order without reading the menu\u001b[39m\u001b[38;5;130;01m\\n\u001b[39;00m\u001b[33m- If you don\u001b[39m\u001b[38;5;130;01m\\'\u001b[39;00m\u001b[33mt recognize their number, ask for their phone number\u001b[39m\u001b[38;5;130;01m\\n\u001b[39;00m\u001b[33m- After obtaining a valid phone number, confirm it by repeating the phone number back to them\u001b[39m\u001b[38;5;130;01m\\n\u001b[39;00m\u001b[33m- If the confirmed phone number is not in our system, create a new customer\u001b[39m\u001b[38;5;130;01m\\n\u001b[39;00m\u001b[33m- After creating a new customer, greet them by name and ask what they would like to order.\u001b[39m\u001b[38;5;130;01m\\n\u001b[39;00m\u001b[33m- Present an option to read the menu or skip to the order taking process.\u001b[39m\u001b[38;5;130;01m\\n\u001b[39;00m\u001b[38;5;130;01m\\n\u001b[39;00m\u001b[33m2. Menu Presentation:\u001b[39m\u001b[38;5;130;01m\\n\u001b[39;00m\u001b[33m- If they want to see the menu, first present broad categories of menu items\u001b[39m\u001b[38;5;130;01m\\n\u001b[39;00m\u001b[33m- If they express interest in a specific category, only read items from that category in a conversational manner, including item descriptions\u001b[39m\u001b[38;5;130;01m\\n\u001b[39;00m\u001b[33m- If they are unclear about what they want, read the complete menu with descriptions\u001b[39m\u001b[38;5;130;01m\\n\u001b[39;00m\u001b[33m- Only offer items that are available in the database (check the \u001b[39m\u001b[38;5;130;01m\\'\u001b[39;00m\u001b[33mis_available\u001b[39m\u001b[38;5;130;01m\\'\u001b[39;00m\u001b[33m column - if it\u001b[39m\u001b[38;5;130;01m\\'\u001b[39;00m\u001b[33ms 0, the item is NOT available)\u001b[39m\u001b[38;5;130;01m\\n\u001b[39;00m\u001b[33m- NEVER recommend or suggest items that are not in the menu or are unavailable\u001b[39m\u001b[38;5;130;01m\\n\u001b[39;00m\u001b[33m- Provide accurate pricing information for available items\u001b[39m\u001b[38;5;130;01m\\n\u001b[39;00m\u001b[33m- Mention current special offers or promotions when applicable\u001b[39m\u001b[38;5;130;01m\\n\u001b[39;00m\u001b[38;5;130;01m\\n\u001b[39;00m\u001b[33m3. Order Taking:\u001b[39m\u001b[38;5;130;01m\\n\u001b[39;00m\u001b[33m- When they decide on an item, acknowledge their selection without immediate confirmation\u001b[39m\u001b[38;5;130;01m\\n\u001b[39;00m\u001b[33m- Ask generally if they want to add any add-ons, without getting into details initially\u001b[39m\u001b[38;5;130;01m\\n\u001b[39;00m\u001b[33m- If they want add-ons, present options one category at a time:\u001b[39m\u001b[38;5;130;01m\\n\u001b[39;00m\u001b[33m  * FIRST: Present size options (if available)\u001b[39m\u001b[38;5;130;01m\\n\u001b[39;00m\u001b[33m  * SECOND: Present sauce options (if available)\u001b[39m\u001b[38;5;130;01m\\n\u001b[39;00m\u001b[33m  * THIRD: Present topping options (if available)\u001b[39m\u001b[38;5;130;01m\\n\u001b[39;00m\u001b[33m- Wait for customer\u001b[39m\u001b[38;5;130;01m\\'\u001b[39;00m\u001b[33ms choice on each type of add-on before proceeding to the next type\u001b[39m\u001b[38;5;130;01m\\n\u001b[39;00m\u001b[33m- If they don\u001b[39m\u001b[38;5;130;01m\\'\u001b[39;00m\u001b[33mt want add-ons, proceed to ask if they want to order anything else\u001b[39m\u001b[38;5;130;01m\\n\u001b[39;00m\u001b[33m- If they want another item, return to the menu presentation step for that item\u001b[39m\u001b[38;5;130;01m\\n\u001b[39;00m\u001b[33m- Continue until they indicate they don\u001b[39m\u001b[38;5;130;01m\\'\u001b[39;00m\u001b[33mt want to order anything else\u001b[39m\u001b[38;5;130;01m\\n\u001b[39;00m\u001b[38;5;130;01m\\n\u001b[39;00m\u001b[33m4. Order Confirmation:\u001b[39m\u001b[38;5;130;01m\\n\u001b[39;00m\u001b[33m- Confirm the complete order ONLY ONCE when the customer has finished ordering everything\u001b[39m\u001b[38;5;130;01m\\n\u001b[39;00m\u001b[33m- Summarize all items with their specifications and the total price\u001b[39m\u001b[38;5;130;01m\\n\u001b[39;00m\u001b[33m- After order confirmation, proceed to create the order\u001b[39m\u001b[38;5;130;01m\\n\u001b[39;00m\u001b[33m- Inform customers this is a PICKUP ONLY restaurant (no delivery service)\u001b[39m\u001b[38;5;130;01m\\n\u001b[39;00m\u001b[38;5;130;01m\\n\u001b[39;00m\u001b[33m5. Completion:\u001b[39m\u001b[38;5;130;01m\\n\u001b[39;00m\u001b[33m- Provide the pickup address\u001b[39m\u001b[38;5;130;01m\\n\u001b[39;00m\u001b[33m- Inform them about the estimated preparation time\u001b[39m\u001b[38;5;130;01m\\n\u001b[39;00m\u001b[33m- Let them know they will receive a text message with order details and pickup information\u001b[39m\u001b[38;5;130;01m\\n\u001b[39;00m\u001b[33m- Thank them for their order and politely end the conversation\u001b[39m\u001b[38;5;130;01m\\n\u001b[39;00m\u001b[38;5;130;01m\\n\u001b[39;00m\u001b[33m6. CRITICAL - Avoiding Loops:\u001b[39m\u001b[38;5;130;01m\\n\u001b[39;00m\u001b[33m- NEVER ask the same confirmation question twice\u001b[39m\u001b[38;5;130;01m\\n\u001b[39;00m\u001b[33m- After a customer confirms information, acknowledge it and MOVE ON to the next step\u001b[39m\u001b[38;5;130;01m\\n\u001b[39;00m\u001b[33m- If a customer says \u001b[39m\u001b[33m\"\u001b[39m\u001b[33myes,\u001b[39m\u001b[33m\"\u001b[39m\u001b[33m \u001b[39m\u001b[33m\"\u001b[39m\u001b[33mcorrect,\u001b[39m\u001b[33m\"\u001b[39m\u001b[33m \u001b[39m\u001b[33m\"\u001b[39m\u001b[33mthat\u001b[39m\u001b[38;5;130;01m\\'\u001b[39;00m\u001b[33ms right,\u001b[39m\u001b[33m\"\u001b[39m\u001b[33m or similar, immediately proceed to the next step\u001b[39m\u001b[38;5;130;01m\\n\u001b[39;00m\u001b[33m- Do not get stuck in confirmation loops - always make forward progress in the conversation\u001b[39m\u001b[38;5;130;01m\\n\u001b[39;00m\u001b[38;5;130;01m\\n\u001b[39;00m\u001b[33mConversational Style: Be friendly and efficient. Keep responses concise but informative. Use a warm, welcoming tone while maintaining professionalism. Don\u001b[39m\u001b[38;5;130;01m\\'\u001b[39;00m\u001b[33mt use bullet points in your responses, instead take a more conversational flow approach. When asking for confirmations, wait for the user to respond before providing additional information - don\u001b[39m\u001b[38;5;130;01m\\'\u001b[39;00m\u001b[33mt continue with more information until you get a response. Never confirm the same order details multiple times in a single message or across consecutive messages.\u001b[39m\u001b[38;5;130;01m\\n\u001b[39;00m\u001b[33m'\u001b[39m}, {\u001b[33m'\u001b[39m\u001b[33mrole\u001b[39m\u001b[33m'\u001b[39m: \u001b[33m'\u001b[39m\u001b[33massistant\u001b[39m\u001b[33m'\u001b[39m, \u001b[33m'\u001b[39m\u001b[33mcontent\u001b[39m\u001b[33m'\u001b[39m: \u001b[33m\"\u001b[39m\u001b[33mWelcome to Tote AI Restaurant! I\u001b[39m\u001b[33m'\u001b[39m\u001b[33mm your order assistant. To get started, can you please provide me with your name?\u001b[39m\u001b[33m\"\u001b[39m, \u001b[33m'\u001b[39m\u001b[33mtool_calls\u001b[39m\u001b[33m'\u001b[39m: \u001b[38;5;28;01mNone\u001b[39;00m}, {\u001b[33m'\u001b[39m\u001b[33mrole\u001b[39m\u001b[33m'\u001b[39m: \u001b[33m'\u001b[39m\u001b[33massistant\u001b[39m\u001b[33m'\u001b[39m, \u001b[33m'\u001b[39m\u001b[33mcontent\u001b[39m\u001b[33m'\u001b[39m: \u001b[33m\"\u001b[39m\u001b[33mWelcome to Tote AI Restaurant! I\u001b[39m\u001b[33m'\u001b[39m\u001b[33mm your order assistant. To get started, can you please provide me with your name?\u001b[39m\u001b[33m\"\u001b[39m, \u001b[33m'\u001b[39m\u001b[33mtool_calls\u001b[39m\u001b[33m'\u001b[39m: \u001b[38;5;28;01mNone\u001b[39;00m}, {\u001b[33m'\u001b[39m\u001b[33mrole\u001b[39m\u001b[33m'\u001b[39m: \u001b[33m'\u001b[39m\u001b[33muser\u001b[39m\u001b[33m'\u001b[39m, \u001b[33m'\u001b[39m\u001b[33mcontent\u001b[39m\u001b[33m'\u001b[39m: \u001b[33m'\u001b[39m\u001b[33mMy name is Sam.\u001b[39m\u001b[33m'\u001b[39m, \u001b[33m'\u001b[39m\u001b[33mtool_calls\u001b[39m\u001b[33m'\u001b[39m: \u001b[38;5;28;01mNone\u001b[39;00m}, {\u001b[33m'\u001b[39m\u001b[33mrole\u001b[39m\u001b[33m'\u001b[39m: \u001b[33m'\u001b[39m\u001b[33massistant\u001b[39m\u001b[33m'\u001b[39m, \u001b[33m'\u001b[39m\u001b[33mcontent\u001b[39m\u001b[33m'\u001b[39m: \u001b[33m'\u001b[39m\u001b[33mThanks, Sam! Could I please get your phone number so I can look up your details and start your order?\u001b[39m\u001b[33m'\u001b[39m, \u001b[33m'\u001b[39m\u001b[33mtool_calls\u001b[39m\u001b[33m'\u001b[39m: \u001b[38;5;28;01mNone\u001b[39;00m}, {\u001b[33m'\u001b[39m\u001b[33mrole\u001b[39m\u001b[33m'\u001b[39m: \u001b[33m'\u001b[39m\u001b[33massistant\u001b[39m\u001b[33m'\u001b[39m, \u001b[33m'\u001b[39m\u001b[33mcontent\u001b[39m\u001b[33m'\u001b[39m: \u001b[33m\"\u001b[39m\u001b[33mWelcome to Tote AI Restaurant! I\u001b[39m\u001b[33m'\u001b[39m\u001b[33mm your order assistant. To get started, can you please provide me with your name?\u001b[39m\u001b[33m\"\u001b[39m, \u001b[33m'\u001b[39m\u001b[33mtool_calls\u001b[39m\u001b[33m'\u001b[39m: \u001b[38;5;28;01mNone\u001b[39;00m}, {\u001b[33m'\u001b[39m\u001b[33mrole\u001b[39m\u001b[33m'\u001b[39m: \u001b[33m'\u001b[39m\u001b[33muser\u001b[39m\u001b[33m'\u001b[39m, \u001b[33m'\u001b[39m\u001b[33mcontent\u001b[39m\u001b[33m'\u001b[39m: \u001b[33m'\u001b[39m\u001b[33mMy name is Sam.\u001b[39m\u001b[33m'\u001b[39m, \u001b[33m'\u001b[39m\u001b[33mtool_calls\u001b[39m\u001b[33m'\u001b[39m: \u001b[38;5;28;01mNone\u001b[39;00m}, {\u001b[33m'\u001b[39m\u001b[33mrole\u001b[39m\u001b[33m'\u001b[39m: \u001b[33m'\u001b[39m\u001b[33massistant\u001b[39m\u001b[33m'\u001b[39m, \u001b[33m'\u001b[39m\u001b[33mcontent\u001b[39m\u001b[33m'\u001b[39m: \u001b[33m'\u001b[39m\u001b[33mThanks, Sam! Could I please get your phone number so I can look up your details and start your order?\u001b[39m\u001b[33m'\u001b[39m, \u001b[33m'\u001b[39m\u001b[33mtool_calls\u001b[39m\u001b[33m'\u001b[39m: \u001b[38;5;28;01mNone\u001b[39;00m}, {\u001b[33m'\u001b[39m\u001b[33mrole\u001b[39m\u001b[33m'\u001b[39m: \u001b[33m'\u001b[39m\u001b[33muser\u001b[39m\u001b[33m'\u001b[39m, \u001b[33m'\u001b[39m\u001b[33mcontent\u001b[39m\u001b[33m'\u001b[39m: \u001b[33m'\u001b[39m\u001b[33mPhone number is seven zero one one five four five four zero nine.\u001b[39m\u001b[33m'\u001b[39m, \u001b[33m'\u001b[39m\u001b[33mtool_calls\u001b[39m\u001b[33m'\u001b[39m: \u001b[38;5;28;01mNone\u001b[39;00m}, {\u001b[33m'\u001b[39m\u001b[33mrole\u001b[39m\u001b[33m'\u001b[39m: \u001b[33m'\u001b[39m\u001b[33massistant\u001b[39m\u001b[33m'\u001b[39m, \u001b[33m'\u001b[39m\u001b[33mcontent\u001b[39m\u001b[33m'\u001b[39m: \u001b[38;5;28;01mNone\u001b[39;00m, \u001b[33m'\u001b[39m\u001b[33mtool_calls\u001b[39m\u001b[33m'\u001b[39m: [{\u001b[33m'\u001b[39m\u001b[33mid\u001b[39m\u001b[33m'\u001b[39m: \u001b[33m'\u001b[39m\u001b[33mcall_TZJ5pqGFXl4jANlYL5BG9gtR\u001b[39m\u001b[33m'\u001b[39m, \u001b[33m'\u001b[39m\u001b[33mfunction\u001b[39m\u001b[33m'\u001b[39m: {\u001b[33m'\u001b[39m\u001b[33marguments\u001b[39m\u001b[33m'\u001b[39m: \u001b[33m'\u001b[39m\u001b[33m{\u001b[39m\u001b[33m\"\u001b[39m\u001b[33mname\u001b[39m\u001b[33m\"\u001b[39m\u001b[33m:\u001b[39m\u001b[33m\"\u001b[39m\u001b[33mSam\u001b[39m\u001b[33m\"\u001b[39m\u001b[33m,\u001b[39m\u001b[33m\"\u001b[39m\u001b[33mphone\u001b[39m\u001b[33m\"\u001b[39m\u001b[33m:7011545409}\u001b[39m\u001b[33m'\u001b[39m, \u001b[33m'\u001b[39m\u001b[33mname\u001b[39m\u001b[33m'\u001b[39m: \u001b[33m'\u001b[39m\u001b[33mverify_customer\u001b[39m\u001b[33m'\u001b[39m}, \u001b[33m'\u001b[39m\u001b[33mtype\u001b[39m\u001b[33m'\u001b[39m: \u001b[33m'\u001b[39m\u001b[33mfunction\u001b[39m\u001b[33m'\u001b[39m}]}, {\u001b[33m'\u001b[39m\u001b[33mrole\u001b[39m\u001b[33m'\u001b[39m: \u001b[33m'\u001b[39m\u001b[33mtool\u001b[39m\u001b[33m'\u001b[39m, \u001b[33m'\u001b[39m\u001b[33mcontent\u001b[39m\u001b[33m'\u001b[39m: \u001b[33m'\u001b[39m\u001b[33mWelcome back, Sam! What would you like to order today?\u001b[39m\u001b[33m'\u001b[39m, \u001b[33m'\u001b[39m\u001b[33mtool_calls\u001b[39m\u001b[33m'\u001b[39m: \u001b[38;5;28;01mNone\u001b[39;00m}, {\u001b[33m'\u001b[39m\u001b[33mrole\u001b[39m\u001b[33m'\u001b[39m: \u001b[33m'\u001b[39m\u001b[33massistant\u001b[39m\u001b[33m'\u001b[39m, \u001b[33m'\u001b[39m\u001b[33mcontent\u001b[39m\u001b[33m'\u001b[39m: \u001b[33m\"\u001b[39m\u001b[33mWelcome to Tote AI Restaurant! I\u001b[39m\u001b[33m'\u001b[39m\u001b[33mm your order assistant. To get started, can you please provide me with your name?\u001b[39m\u001b[33m\"\u001b[39m}, {\u001b[33m'\u001b[39m\u001b[33mrole\u001b[39m\u001b[33m'\u001b[39m: \u001b[33m'\u001b[39m\u001b[33muser\u001b[39m\u001b[33m'\u001b[39m, \u001b[33m'\u001b[39m\u001b[33mcontent\u001b[39m\u001b[33m'\u001b[39m: \u001b[33m'\u001b[39m\u001b[33mMy name is Sam.\u001b[39m\u001b[33m'\u001b[39m}, {\u001b[33m'\u001b[39m\u001b[33mrole\u001b[39m\u001b[33m'\u001b[39m: \u001b[33m'\u001b[39m\u001b[33massistant\u001b[39m\u001b[33m'\u001b[39m, \u001b[33m'\u001b[39m\u001b[33mcontent\u001b[39m\u001b[33m'\u001b[39m: \u001b[33m'\u001b[39m\u001b[33mThanks, Sam! Could I please get your phone number so I can look up your details and start your order?\u001b[39m\u001b[33m'\u001b[39m}, {\u001b[33m'\u001b[39m\u001b[33mrole\u001b[39m\u001b[33m'\u001b[39m: \u001b[33m'\u001b[39m\u001b[33muser\u001b[39m\u001b[33m'\u001b[39m, \u001b[33m'\u001b[39m\u001b[33mcontent\u001b[39m\u001b[33m'\u001b[39m: \u001b[33m'\u001b[39m\u001b[33mPhone number is seven zero one one five four five four zero nine.\u001b[39m\u001b[33m'\u001b[39m}, {\u001b[33m'\u001b[39m\u001b[33mrole\u001b[39m\u001b[33m'\u001b[39m: \u001b[33m'\u001b[39m\u001b[33massistant\u001b[39m\u001b[33m'\u001b[39m, \u001b[33m'\u001b[39m\u001b[33mcontent\u001b[39m\u001b[33m'\u001b[39m: \u001b[33m'\u001b[39m\u001b[33mWelcome back, Sam! What would you like to order today?\u001b[39m\u001b[33m'\u001b[39m}, {\u001b[33m'\u001b[39m\u001b[33mrole\u001b[39m\u001b[33m'\u001b[39m: \u001b[33m'\u001b[39m\u001b[33muser\u001b[39m\u001b[33m'\u001b[39m, \u001b[33m'\u001b[39m\u001b[33mcontent\u001b[39m\u001b[33m'\u001b[39m: \u001b[33m'\u001b[39m\u001b[33mCan I get a classic cheeseburger?\u001b[39m\u001b[33m'\u001b[39m}],\n\u001b[32m      6\u001b[39m     temperature=\u001b[32m0.2\u001b[39m,\n\u001b[32m      7\u001b[39m )\n",
      "\u001b[36mFile \u001b[39m\u001b[32m~/miniconda3/envs/tote/lib/python3.11/site-packages/openai/resources/chat/completions/completions.py:2028\u001b[39m, in \u001b[36mAsyncCompletions.create\u001b[39m\u001b[34m(self, messages, model, audio, frequency_penalty, function_call, functions, logit_bias, logprobs, max_completion_tokens, max_tokens, metadata, modalities, n, parallel_tool_calls, prediction, presence_penalty, reasoning_effort, response_format, seed, service_tier, stop, store, stream, stream_options, temperature, tool_choice, tools, top_logprobs, top_p, user, web_search_options, extra_headers, extra_query, extra_body, timeout)\u001b[39m\n\u001b[32m   1985\u001b[39m \u001b[38;5;129m@required_args\u001b[39m([\u001b[33m\"\u001b[39m\u001b[33mmessages\u001b[39m\u001b[33m\"\u001b[39m, \u001b[33m\"\u001b[39m\u001b[33mmodel\u001b[39m\u001b[33m\"\u001b[39m], [\u001b[33m\"\u001b[39m\u001b[33mmessages\u001b[39m\u001b[33m\"\u001b[39m, \u001b[33m\"\u001b[39m\u001b[33mmodel\u001b[39m\u001b[33m\"\u001b[39m, \u001b[33m\"\u001b[39m\u001b[33mstream\u001b[39m\u001b[33m\"\u001b[39m])\n\u001b[32m   1986\u001b[39m \u001b[38;5;28;01masync\u001b[39;00m \u001b[38;5;28;01mdef\u001b[39;00m\u001b[38;5;250m \u001b[39m\u001b[34mcreate\u001b[39m(\n\u001b[32m   1987\u001b[39m     \u001b[38;5;28mself\u001b[39m,\n\u001b[32m   (...)\u001b[39m\u001b[32m   2025\u001b[39m     timeout: \u001b[38;5;28mfloat\u001b[39m | httpx.Timeout | \u001b[38;5;28;01mNone\u001b[39;00m | NotGiven = NOT_GIVEN,\n\u001b[32m   2026\u001b[39m ) -> ChatCompletion | AsyncStream[ChatCompletionChunk]:\n\u001b[32m   2027\u001b[39m     validate_response_format(response_format)\n\u001b[32m-> \u001b[39m\u001b[32m2028\u001b[39m     \u001b[38;5;28;01mreturn\u001b[39;00m \u001b[38;5;28;01mawait\u001b[39;00m \u001b[38;5;28mself\u001b[39m._post(\n\u001b[32m   2029\u001b[39m         \u001b[33m\"\u001b[39m\u001b[33m/chat/completions\u001b[39m\u001b[33m\"\u001b[39m,\n\u001b[32m   2030\u001b[39m         body=\u001b[38;5;28;01mawait\u001b[39;00m async_maybe_transform(\n\u001b[32m   2031\u001b[39m             {\n\u001b[32m   2032\u001b[39m                 \u001b[33m\"\u001b[39m\u001b[33mmessages\u001b[39m\u001b[33m\"\u001b[39m: messages,\n\u001b[32m   2033\u001b[39m                 \u001b[33m\"\u001b[39m\u001b[33mmodel\u001b[39m\u001b[33m\"\u001b[39m: model,\n\u001b[32m   2034\u001b[39m                 \u001b[33m\"\u001b[39m\u001b[33maudio\u001b[39m\u001b[33m\"\u001b[39m: audio,\n\u001b[32m   2035\u001b[39m                 \u001b[33m\"\u001b[39m\u001b[33mfrequency_penalty\u001b[39m\u001b[33m\"\u001b[39m: frequency_penalty,\n\u001b[32m   2036\u001b[39m                 \u001b[33m\"\u001b[39m\u001b[33mfunction_call\u001b[39m\u001b[33m\"\u001b[39m: function_call,\n\u001b[32m   2037\u001b[39m                 \u001b[33m\"\u001b[39m\u001b[33mfunctions\u001b[39m\u001b[33m\"\u001b[39m: functions,\n\u001b[32m   2038\u001b[39m                 \u001b[33m\"\u001b[39m\u001b[33mlogit_bias\u001b[39m\u001b[33m\"\u001b[39m: logit_bias,\n\u001b[32m   2039\u001b[39m                 \u001b[33m\"\u001b[39m\u001b[33mlogprobs\u001b[39m\u001b[33m\"\u001b[39m: logprobs,\n\u001b[32m   2040\u001b[39m                 \u001b[33m\"\u001b[39m\u001b[33mmax_completion_tokens\u001b[39m\u001b[33m\"\u001b[39m: max_completion_tokens,\n\u001b[32m   2041\u001b[39m                 \u001b[33m\"\u001b[39m\u001b[33mmax_tokens\u001b[39m\u001b[33m\"\u001b[39m: max_tokens,\n\u001b[32m   2042\u001b[39m                 \u001b[33m\"\u001b[39m\u001b[33mmetadata\u001b[39m\u001b[33m\"\u001b[39m: metadata,\n\u001b[32m   2043\u001b[39m                 \u001b[33m\"\u001b[39m\u001b[33mmodalities\u001b[39m\u001b[33m\"\u001b[39m: modalities,\n\u001b[32m   2044\u001b[39m                 \u001b[33m\"\u001b[39m\u001b[33mn\u001b[39m\u001b[33m\"\u001b[39m: n,\n\u001b[32m   2045\u001b[39m                 \u001b[33m\"\u001b[39m\u001b[33mparallel_tool_calls\u001b[39m\u001b[33m\"\u001b[39m: parallel_tool_calls,\n\u001b[32m   2046\u001b[39m                 \u001b[33m\"\u001b[39m\u001b[33mprediction\u001b[39m\u001b[33m\"\u001b[39m: prediction,\n\u001b[32m   2047\u001b[39m                 \u001b[33m\"\u001b[39m\u001b[33mpresence_penalty\u001b[39m\u001b[33m\"\u001b[39m: presence_penalty,\n\u001b[32m   2048\u001b[39m                 \u001b[33m\"\u001b[39m\u001b[33mreasoning_effort\u001b[39m\u001b[33m\"\u001b[39m: reasoning_effort,\n\u001b[32m   2049\u001b[39m                 \u001b[33m\"\u001b[39m\u001b[33mresponse_format\u001b[39m\u001b[33m\"\u001b[39m: response_format,\n\u001b[32m   2050\u001b[39m                 \u001b[33m\"\u001b[39m\u001b[33mseed\u001b[39m\u001b[33m\"\u001b[39m: seed,\n\u001b[32m   2051\u001b[39m                 \u001b[33m\"\u001b[39m\u001b[33mservice_tier\u001b[39m\u001b[33m\"\u001b[39m: service_tier,\n\u001b[32m   2052\u001b[39m                 \u001b[33m\"\u001b[39m\u001b[33mstop\u001b[39m\u001b[33m\"\u001b[39m: stop,\n\u001b[32m   2053\u001b[39m                 \u001b[33m\"\u001b[39m\u001b[33mstore\u001b[39m\u001b[33m\"\u001b[39m: store,\n\u001b[32m   2054\u001b[39m                 \u001b[33m\"\u001b[39m\u001b[33mstream\u001b[39m\u001b[33m\"\u001b[39m: stream,\n\u001b[32m   2055\u001b[39m                 \u001b[33m\"\u001b[39m\u001b[33mstream_options\u001b[39m\u001b[33m\"\u001b[39m: stream_options,\n\u001b[32m   2056\u001b[39m                 \u001b[33m\"\u001b[39m\u001b[33mtemperature\u001b[39m\u001b[33m\"\u001b[39m: temperature,\n\u001b[32m   2057\u001b[39m                 \u001b[33m\"\u001b[39m\u001b[33mtool_choice\u001b[39m\u001b[33m\"\u001b[39m: tool_choice,\n\u001b[32m   2058\u001b[39m                 \u001b[33m\"\u001b[39m\u001b[33mtools\u001b[39m\u001b[33m\"\u001b[39m: tools,\n\u001b[32m   2059\u001b[39m                 \u001b[33m\"\u001b[39m\u001b[33mtop_logprobs\u001b[39m\u001b[33m\"\u001b[39m: top_logprobs,\n\u001b[32m   2060\u001b[39m                 \u001b[33m\"\u001b[39m\u001b[33mtop_p\u001b[39m\u001b[33m\"\u001b[39m: top_p,\n\u001b[32m   2061\u001b[39m                 \u001b[33m\"\u001b[39m\u001b[33muser\u001b[39m\u001b[33m\"\u001b[39m: user,\n\u001b[32m   2062\u001b[39m                 \u001b[33m\"\u001b[39m\u001b[33mweb_search_options\u001b[39m\u001b[33m\"\u001b[39m: web_search_options,\n\u001b[32m   2063\u001b[39m             },\n\u001b[32m   2064\u001b[39m             completion_create_params.CompletionCreateParamsStreaming\n\u001b[32m   2065\u001b[39m             \u001b[38;5;28;01mif\u001b[39;00m stream\n\u001b[32m   2066\u001b[39m             \u001b[38;5;28;01melse\u001b[39;00m completion_create_params.CompletionCreateParamsNonStreaming,\n\u001b[32m   2067\u001b[39m         ),\n\u001b[32m   2068\u001b[39m         options=make_request_options(\n\u001b[32m   2069\u001b[39m             extra_headers=extra_headers, extra_query=extra_query, extra_body=extra_body, timeout=timeout\n\u001b[32m   2070\u001b[39m         ),\n\u001b[32m   2071\u001b[39m         cast_to=ChatCompletion,\n\u001b[32m   2072\u001b[39m         stream=stream \u001b[38;5;129;01mor\u001b[39;00m \u001b[38;5;28;01mFalse\u001b[39;00m,\n\u001b[32m   2073\u001b[39m         stream_cls=AsyncStream[ChatCompletionChunk],\n\u001b[32m   2074\u001b[39m     )\n",
      "\u001b[36mFile \u001b[39m\u001b[32m~/miniconda3/envs/tote/lib/python3.11/site-packages/openai/_base_client.py:1742\u001b[39m, in \u001b[36mAsyncAPIClient.post\u001b[39m\u001b[34m(self, path, cast_to, body, files, options, stream, stream_cls)\u001b[39m\n\u001b[32m   1728\u001b[39m \u001b[38;5;28;01masync\u001b[39;00m \u001b[38;5;28;01mdef\u001b[39;00m\u001b[38;5;250m \u001b[39m\u001b[34mpost\u001b[39m(\n\u001b[32m   1729\u001b[39m     \u001b[38;5;28mself\u001b[39m,\n\u001b[32m   1730\u001b[39m     path: \u001b[38;5;28mstr\u001b[39m,\n\u001b[32m   (...)\u001b[39m\u001b[32m   1737\u001b[39m     stream_cls: \u001b[38;5;28mtype\u001b[39m[_AsyncStreamT] | \u001b[38;5;28;01mNone\u001b[39;00m = \u001b[38;5;28;01mNone\u001b[39;00m,\n\u001b[32m   1738\u001b[39m ) -> ResponseT | _AsyncStreamT:\n\u001b[32m   1739\u001b[39m     opts = FinalRequestOptions.construct(\n\u001b[32m   1740\u001b[39m         method=\u001b[33m\"\u001b[39m\u001b[33mpost\u001b[39m\u001b[33m\"\u001b[39m, url=path, json_data=body, files=\u001b[38;5;28;01mawait\u001b[39;00m async_to_httpx_files(files), **options\n\u001b[32m   1741\u001b[39m     )\n\u001b[32m-> \u001b[39m\u001b[32m1742\u001b[39m     \u001b[38;5;28;01mreturn\u001b[39;00m \u001b[38;5;28;01mawait\u001b[39;00m \u001b[38;5;28mself\u001b[39m.request(cast_to, opts, stream=stream, stream_cls=stream_cls)\n",
      "\u001b[36mFile \u001b[39m\u001b[32m~/miniconda3/envs/tote/lib/python3.11/site-packages/openai/_base_client.py:1549\u001b[39m, in \u001b[36mAsyncAPIClient.request\u001b[39m\u001b[34m(self, cast_to, options, stream, stream_cls)\u001b[39m\n\u001b[32m   1546\u001b[39m             \u001b[38;5;28;01mawait\u001b[39;00m err.response.aread()\n\u001b[32m   1548\u001b[39m         log.debug(\u001b[33m\"\u001b[39m\u001b[33mRe-raising status error\u001b[39m\u001b[33m\"\u001b[39m)\n\u001b[32m-> \u001b[39m\u001b[32m1549\u001b[39m         \u001b[38;5;28;01mraise\u001b[39;00m \u001b[38;5;28mself\u001b[39m._make_status_error_from_response(err.response) \u001b[38;5;28;01mfrom\u001b[39;00m\u001b[38;5;250m \u001b[39m\u001b[38;5;28;01mNone\u001b[39;00m\n\u001b[32m   1551\u001b[39m     \u001b[38;5;28;01mbreak\u001b[39;00m\n\u001b[32m   1553\u001b[39m \u001b[38;5;28;01massert\u001b[39;00m response \u001b[38;5;129;01mis\u001b[39;00m \u001b[38;5;129;01mnot\u001b[39;00m \u001b[38;5;28;01mNone\u001b[39;00m, \u001b[33m\"\u001b[39m\u001b[33mcould not resolve response (should never happen)\u001b[39m\u001b[33m\"\u001b[39m\n",
      "\u001b[31mBadRequestError\u001b[39m: Error code: 400 - {'error': {'message': \"Missing parameter 'tool_call_id': messages with role 'tool' must have a 'tool_call_id'.\", 'type': 'invalid_request_error', 'param': 'messages.[10].tool_call_id', 'code': None}}"
     ]
    }
   ],
   "source": [
    "import os\n",
    "\n",
    "response = await client.chat.completions.create(\n",
    "    model=os.environ.get(\"OPENAI_MODEL\"),\n",
    "    messages=[\n",
    "        {\n",
    "            \"role\": \"system\",\n",
    "            \"content\": '\\nYou are a friendly and enthusiastic voice AI order assistant for Tote AI Restaurant, engaging in a natural conversation with customers to take their food orders. You will respond based on the menu options and the provided transcript.\\n\\n## Style Guardrails\\n- [Be friendly and enthusiastic] Show excitement about our menu items and make recommendations\\n- [Be conversational] Use natural language and engage in friendly dialogue\\n- [Be helpful] Guide customers through the ordering process with suggestions and explanations\\n- [Be accurate] Always provide correct pricing and estimated preparation times\\n- [Be proactive] Suggest popular combinations and ask about preferences\\n- [Be efficient] Avoid repetition, especially with order confirmations\\n- [Be respectful] Always use the customer\\'s provided name, even if different from our records\\n- [Be patient] Always wait for confirmation of one piece of information before asking for the next piece\\n\\n## Response Guidelines\\n- [Make recommendations] Suggest popular items and combinations\\n- [Explain items] Describe ingredients and preparation methods when asked\\n- [Handle modifications] Be flexible with order modifications and special requests\\n- [Confirm details] Confirm order details ONLY ONCE, avoid repeating the same information\\n- [Provide estimates] Give clear information about costs, preparation time, and pickup information\\n- [Collect information] Gather necessary customer details in a friendly, conversational way\\n- [Handle ASR errors] If you\\'re unsure about what the customer said, politely ask for clarification\\n- [Handle name discrepancies] If a customer\\'s name differs from what\\'s in the database, note it once but continue using their provided name\\n- [Wait for confirmations] When asking the customer to confirm information (especially phone numbers), wait for their response before proceeding\\n- [CRITICAL] When the customer confirms their phone number is correct, acknowledge it and immediately move on to menu presentation\\n\\n## Handling Confirmation Responses\\n1. If the user says \"yes\", \"correct\", \"that\\'s right\", or similar confirmation:\\n   - Acknowledge with \"Great!\" or \"Perfect!\"\\n   - IMMEDIATELY transition to the next step (menu presentation)\\n   - Never ask the same confirmation question again\\n2. If in doubt about whether a confirmation was given:\\n   - Assume it was confirmed and move on\\n   - It\\'s better to proceed than to get stuck in a confirmation loop\\n\\n## Menu Presentation\\nWhen discussing the menu:\\n- Use natural transitions and connecting words\\n- Speak conversationally, as if talking to a friend\\n- Avoid bullet points or lists in responses\\n- Use phrases like \"we have\", \"you can try\", \"I recommend\"\\n- Make suggestions naturally within the conversation\\n- Ask about preferences to make better recommendations\\n- Only recommend items that are marked as available in the database\\n- If user wants to order from several categories, go over each category one by one.\\n\\n## Order Taking Process\\n1. First show the basic menu without add-ons\\n2. When a customer selects an item:\\n   - Acknowledge their selection without asking for confirmation\\n   - Guide them through add-on selections by type (size → sauce → toppings)\\n   - After all add-ons are selected, simply ask \"Would you like to order anything else?\"\\n   - DO NOT verify or confirm the item at this point\\n3. Continue collecting all items the customer wants to order\\n4. Only ask \"Is that your complete order?\" after the customer indicates they don\\'t want anything else\\n5. After the customer confirms the order is complete:\\n   - ONLY THEN summarize the complete order ONCE with all items, add-ons and total price\\n   - Wait for customer to confirm the complete order\\n   - Never repeat the order confirmation again in the same message or in subsequent messages\\n6. Tell the customer that the order is confirmed and they will receive a text with the order details and estimated pickup time.\\n   - Close the interaction\\n\\n## Never Verify Each Item\\n- When a customer selects an item with add-ons, only acknowledge the selection and move on\\n- Do not ask \"Do you want to confirm this item?\" or similar verification questions\\n- Save all confirmation for the END of the order process\\n- Only after the customer says they don\\'t want anything else, do a SINGLE confirmation of the entire order\\n\\n## Information Collection Process Walkthrough\\n1. Customer Identification:\\n- Welcome the customer warmly\\n- If you recognize their phone number, greet them by name (if available) and directly ask what they would like to order without reading the menu\\n- If you don\\'t recognize their number, ask for their phone number\\n- After obtaining a valid phone number, confirm it by repeating the phone number back to them\\n- If the confirmed phone number is not in our system, create a new customer\\n- After creating a new customer, greet them by name and ask what they would like to order.\\n- Present an option to read the menu or skip to the order taking process.\\n\\n2. Menu Presentation:\\n- If they want to see the menu, first present broad categories of menu items\\n- If they express interest in a specific category, only read items from that category in a conversational manner, including item descriptions\\n- If they are unclear about what they want, read the complete menu with descriptions\\n- Only offer items that are available in the database (check the \\'is_available\\' column - if it\\'s 0, the item is NOT available)\\n- NEVER recommend or suggest items that are not in the menu or are unavailable\\n- Provide accurate pricing information for available items\\n- Mention current special offers or promotions when applicable\\n\\n3. Order Taking:\\n- When they decide on an item, acknowledge their selection without immediate confirmation\\n- Ask generally if they want to add any add-ons, without getting into details initially\\n- If they want add-ons, present options one category at a time:\\n  * FIRST: Present size options (if available)\\n  * SECOND: Present sauce options (if available)\\n  * THIRD: Present topping options (if available)\\n- Wait for customer\\'s choice on each type of add-on before proceeding to the next type\\n- If they don\\'t want add-ons, proceed to ask if they want to order anything else\\n- If they want another item, return to the menu presentation step for that item\\n- Continue until they indicate they don\\'t want to order anything else\\n\\n4. Order Confirmation:\\n- Confirm the complete order ONLY ONCE when the customer has finished ordering everything\\n- Summarize all items with their specifications and the total price\\n- After order confirmation, proceed to create the order\\n- Inform customers this is a PICKUP ONLY restaurant (no delivery service)\\n\\n5. Completion:\\n- Provide the pickup address\\n- Inform them about the estimated preparation time\\n- Let them know they will receive a text message with order details and pickup information\\n- Thank them for their order and politely end the conversation\\n\\n6. CRITICAL - Avoiding Loops:\\n- NEVER ask the same confirmation question twice\\n- After a customer confirms information, acknowledge it and MOVE ON to the next step\\n- If a customer says \"yes,\" \"correct,\" \"that\\'s right,\" or similar, immediately proceed to the next step\\n- Do not get stuck in confirmation loops - always make forward progress in the conversation\\n\\nConversational Style: Be friendly and efficient. Keep responses concise but informative. Use a warm, welcoming tone while maintaining professionalism. Don\\'t use bullet points in your responses, instead take a more conversational flow approach. When asking for confirmations, wait for the user to respond before providing additional information - don\\'t continue with more information until you get a response. Never confirm the same order details multiple times in a single message or across consecutive messages.\\n',\n",
    "        },\n",
    "        {\n",
    "            \"role\": \"assistant\",\n",
    "            \"content\": \"Welcome to Tote AI Restaurant! I'm your order assistant. To get started, can you please provide me with your name?\",\n",
    "            \"tool_calls\": None,\n",
    "        },\n",
    "        {\n",
    "            \"role\": \"assistant\",\n",
    "            \"content\": \"Welcome to Tote AI Restaurant! I'm your order assistant. To get started, can you please provide me with your name?\",\n",
    "            \"tool_calls\": None,\n",
    "        },\n",
    "        {\"role\": \"user\", \"content\": \"My name is Sam.\", \"tool_calls\": None},\n",
    "        {\n",
    "            \"role\": \"assistant\",\n",
    "            \"content\": \"Thanks, Sam! Could I please get your phone number so I can look up your details and start your order?\",\n",
    "            \"tool_calls\": None,\n",
    "        },\n",
    "        {\n",
    "            \"role\": \"assistant\",\n",
    "            \"content\": \"Welcome to Tote AI Restaurant! I'm your order assistant. To get started, can you please provide me with your name?\",\n",
    "            \"tool_calls\": None,\n",
    "        },\n",
    "        {\"role\": \"user\", \"content\": \"My name is Sam.\", \"tool_calls\": None},\n",
    "        {\n",
    "            \"role\": \"assistant\",\n",
    "            \"content\": \"Thanks, Sam! Could I please get your phone number so I can look up your details and start your order?\",\n",
    "            \"tool_calls\": None,\n",
    "        },\n",
    "        {\n",
    "            \"role\": \"user\",\n",
    "            \"content\": \"Phone number is seven zero one one five four five four zero nine.\",\n",
    "            \"tool_calls\": None,\n",
    "        },\n",
    "        {\n",
    "            \"role\": \"assistant\",\n",
    "            \"content\": None,\n",
    "            \"tool_calls\": [\n",
    "                {\n",
    "                    \"id\": \"call_TZJ5pqGFXl4jANlYL5BG9gtR\",\n",
    "                    \"function\": {\n",
    "                        \"arguments\": '{\"name\":\"Sam\",\"phone\":7011545409}',\n",
    "                        \"name\": \"verify_customer\",\n",
    "                    },\n",
    "                    \"type\": \"function\",\n",
    "                }\n",
    "            ],\n",
    "        },\n",
    "        {\n",
    "            \"role\": \"tool\",\n",
    "            \"content\": \"Welcome back, Sam! What would you like to order today?\",\n",
    "            \"tool_calls\": None,\n",
    "        },\n",
    "        {\n",
    "            \"role\": \"assistant\",\n",
    "            \"content\": \"Welcome to Tote AI Restaurant! I'm your order assistant. To get started, can you please provide me with your name?\",\n",
    "        },\n",
    "        {\"role\": \"user\", \"content\": \"My name is Sam.\"},\n",
    "        {\n",
    "            \"role\": \"assistant\",\n",
    "            \"content\": \"Thanks, Sam! Could I please get your phone number so I can look up your details and start your order?\",\n",
    "        },\n",
    "        {\n",
    "            \"role\": \"user\",\n",
    "            \"content\": \"Phone number is seven zero one one five four five four zero nine.\",\n",
    "        },\n",
    "        {\n",
    "            \"role\": \"assistant\",\n",
    "            \"content\": \"Welcome back, Sam! What would you like to order today?\",\n",
    "        },\n",
    "        {\"role\": \"user\", \"content\": \"Can I get a classic cheeseburger?\"},\n",
    "    ],\n",
    "    temperature=0.2,\n",
    ")\n"
   ]
  },
  {
   "cell_type": "code",
   "execution_count": 37,
   "metadata": {},
   "outputs": [
    {
     "data": {
      "text/plain": [
       "ChatCompletion(id='chatcmpl-BPf9t8vj5vnpKI5ZtD6FaZm5sGmpI', choices=[Choice(finish_reason='stop', index=0, logprobs=None, message=ChatCompletionMessage(content='Thanks, Sam! Your profile is set up.\\n\\nHere’s our menu highlights:\\n- Starters: Spring Rolls, Garlic Bread, Chicken Wings\\n- Main Course: Margherita Pizza, Veggie Burger, Grilled Chicken, Pasta Alfredo\\n- Desserts: Chocolate Brownie, Ice Cream Sundae\\n- Beverages: Fresh Lime Soda, Iced Tea, Coffee\\n\\nWhat would you like to order today? If you need more details or want to see the full menu, just let me know!', refusal=None, role='assistant', annotations=[], audio=None, function_call=None, tool_calls=None))], created=1745456113, model='gpt-4.1-2025-04-14', object='chat.completion', service_tier='default', system_fingerprint='fp_beec22d258', usage=CompletionUsage(completion_tokens=103, prompt_tokens=235, total_tokens=338, completion_tokens_details=CompletionTokensDetails(accepted_prediction_tokens=0, audio_tokens=0, reasoning_tokens=0, rejected_prediction_tokens=0), prompt_tokens_details=PromptTokensDetails(audio_tokens=0, cached_tokens=0)))"
      ]
     },
     "execution_count": 37,
     "metadata": {},
     "output_type": "execute_result"
    }
   ],
   "source": [
    "response\n"
   ]
  },
  {
   "cell_type": "code",
   "execution_count": 30,
   "metadata": {},
   "outputs": [],
   "source": [
    "response = await client.chat.completions.create(\n",
    "    model=\"gpt-4.1\",\n",
    "    messages=[\n",
    "        {\n",
    "            \"role\": \"assistant\",\n",
    "            \"content\": \"Welcome to Tote AI Restaurant! I'm your order assistant. To get started, can you please provide me with your name?\",\n",
    "            \"tool_calls\": None,\n",
    "        },\n",
    "        {\n",
    "            \"role\": \"assistant\",\n",
    "            \"content\": \"Welcome to Tote AI Restaurant! I'm your order assistant. To get started, can you please provide me with your name?\",\n",
    "            \"tool_calls\": None,\n",
    "        },\n",
    "        {\"role\": \"user\", \"content\": \"My name is Sam.\", \"tool_calls\": None},\n",
    "        {\n",
    "            \"role\": \"assistant\",\n",
    "            \"content\": \"Thanks, Sam! Before we jump into the menu, could I get your phone number so I can set up your profile and keep your order info handy?\",\n",
    "            \"tool_calls\": None,\n",
    "        },\n",
    "        {\n",
    "            \"role\": \"assistant\",\n",
    "            \"content\": \"Welcome to Tote AI Restaurant! I'm your order assistant. To get started, can you please provide me with your name?\",\n",
    "            \"tool_calls\": None,\n",
    "        },\n",
    "        {\"role\": \"user\", \"content\": \"My name is Sam.\", \"tool_calls\": None},\n",
    "        {\n",
    "            \"role\": \"assistant\",\n",
    "            \"content\": \"Thanks, Sam! Before we jump into the menu, could I get your phone number so I can set up your profile and keep your order info handy?\",\n",
    "            \"tool_calls\": None,\n",
    "        },\n",
    "        {\n",
    "            \"role\": \"user\",\n",
    "            \"content\": \"Phone number is eight eight zero zero seven five two two zero five.\",\n",
    "            \"tool_calls\": None,\n",
    "        },\n",
    "        {\n",
    "            \"role\": \"assistant\",\n",
    "            \"content\": None,\n",
    "            \"tool_calls\": [\n",
    "                {\n",
    "                    \"id\": \"call_OHmLdppmfIHKhNoLFE9lF9ac\",\n",
    "                    \"function\": {\n",
    "                        \"arguments\": '{\"name\":\"Sam\",\"phone\":8800752205}',\n",
    "                        \"name\": \"verify_customer\",\n",
    "                    },\n",
    "                    \"type\": \"function\",\n",
    "                }\n",
    "            ],\n",
    "        },\n",
    "        {\n",
    "            \"role\": \"tool\",\n",
    "            \"tool_call_id\": \"call_OHmLdppmfIHKhNoLFE9lF9ac\",\n",
    "            \"content\": \"Welcome back, Sam! What would you like to order today?\",\n",
    "        },\n",
    "    ],\n",
    "    temperature=0.2,\n",
    ")\n"
   ]
  },
  {
   "cell_type": "code",
   "execution_count": 32,
   "metadata": {},
   "outputs": [
    {
     "data": {
      "text/plain": [
       "ChatCompletionMessage(content='Thanks, Sam! Your profile is set up. Here’s our menu highlights:\\n\\n**Starters:**\\n- Garlic Bread\\n- Veg Spring Rolls\\n- Chicken Wings\\n\\n**Main Course:**\\n- Margherita Pizza\\n- Paneer Butter Masala with Naan\\n- Grilled Chicken with Rice\\n\\n**Desserts:**\\n- Chocolate Brownie\\n- Gulab Jamun\\n\\nWould you like to hear more about any dish, or are you ready to place your order?', refusal=None, role='assistant', annotations=[], audio=None, function_call=None, tool_calls=None)"
      ]
     },
     "execution_count": 32,
     "metadata": {},
     "output_type": "execute_result"
    }
   ],
   "source": [
    "response.choices[0].message\n"
   ]
  },
  {
   "cell_type": "code",
   "execution_count": 24,
   "metadata": {},
   "outputs": [
    {
     "data": {
      "text/plain": [
       "\"Thank you, Sam! I've got your phone number as 8800752205.  \\nWhat would you like to order today? You can let me know your favorite dish, browse our menu, or ask for recommendations!\""
      ]
     },
     "execution_count": 24,
     "metadata": {},
     "output_type": "execute_result"
    }
   ],
   "source": [
    "from munch import Munch\n",
    "\n",
    "Munch(response.choices[0].message).content\n"
   ]
  },
  {
   "cell_type": "code",
   "execution_count": null,
   "metadata": {},
   "outputs": [
    {
     "name": "stdout",
     "output_type": "stream",
     "text": [
      "All in the game, yo\n"
     ]
    }
   ],
   "source": [
    "import os\n",
    "from twilio.rest import Client\n",
    "\n",
    "# Find your Account SID and Auth Token at twilio.com/console\n",
    "# and set the environment variables. See http://twil.io/secure\n",
    "account_sid = os.environ[\"TWILIO_ACCOUNT_ID\"]\n",
    "auth_token = os.environ[\"TWILIO_AUTH_TOKEN\"]\n",
    "client = Client(account_sid, auth_token)\n",
    "\n",
    "message = client.messages.create(\n",
    "    body=\"All in the game, yo\", from_=\"+16506704404\", to=\"+15715028427\"\n",
    ")\n",
    "\n",
    "print(message.body)\n"
   ]
  },
  {
   "cell_type": "code",
   "execution_count": 1,
   "metadata": {},
   "outputs": [],
   "source": [
    "import retell\n",
    "from retell import Retell\n"
   ]
  },
  {
   "cell_type": "code",
   "execution_count": 2,
   "metadata": {},
   "outputs": [],
   "source": [
    "client = Retell(api_key=\"key_f2e20f875ffdea11655fb4acaee7\")\n"
   ]
  },
  {
   "cell_type": "code",
   "execution_count": null,
   "metadata": {},
   "outputs": [
    {
     "data": {
      "text/plain": [
       "PhoneCallResponse(agent_id='agent_dd66951b01821079752d5035d4', call_id='call_aa33da5981078a6763f8c9461ab', call_status='registered', call_type='phone_call', direction='inbound', from_number=None, to_number=None, call_analysis=None, disconnection_reason=None, e2e_latency=None, end_timestamp=None, llm_latency=None, llm_websocket_network_rtt_latency=None, metadata=None, opt_out_sensitive_data_storage=False, public_log_url=None, recording_url=None, retell_llm_dynamic_variables=None, start_timestamp=None, transcript=None, transcript_object=None, transcript_with_tool_calls=None, latency={}, call_cost={'product_costs': [], 'total_duration_seconds': 0, 'total_duration_unit_price': 0, 'total_one_time_price': 0, 'combined_cost': 0})"
      ]
     },
     "execution_count": 5,
     "metadata": {},
     "output_type": "execute_result"
    }
   ],
   "source": [
    "client.call.register_phone_call(\n",
    "    agent_id=\"agent_dd66951b01821079752d5035d4\", direction=\"inbound\"\n",
    ")\n"
   ]
  },
  {
   "cell_type": "code",
   "execution_count": 11,
   "metadata": {},
   "outputs": [
    {
     "ename": "ModuleNotFoundError",
     "evalue": "No module named 'retell.models'",
     "output_type": "error",
     "traceback": [
      "\u001b[31m---------------------------------------------------------------------------\u001b[39m",
      "\u001b[31mModuleNotFoundError\u001b[39m                       Traceback (most recent call last)",
      "\u001b[36mCell\u001b[39m\u001b[36m \u001b[39m\u001b[32mIn[11]\u001b[39m\u001b[32m, line 1\u001b[39m\n\u001b[32m----> \u001b[39m\u001b[32m1\u001b[39m \u001b[38;5;28;01mfrom\u001b[39;00m\u001b[38;5;250m \u001b[39m\u001b[34;01mretell\u001b[39;00m\u001b[34;01m.\u001b[39;00m\u001b[34;01mmodels\u001b[39;00m\u001b[38;5;250m \u001b[39m\u001b[38;5;28;01mimport\u001b[39;00m (\n\u001b[32m      2\u001b[39m     Call,\n\u001b[32m      3\u001b[39m     CallResponse,\n\u001b[32m      4\u001b[39m     CallStatus,\n\u001b[32m      5\u001b[39m     TranscriptResponse,\n\u001b[32m      6\u001b[39m     CreateCallRequest,\n\u001b[32m      7\u001b[39m )\n",
      "\u001b[31mModuleNotFoundError\u001b[39m: No module named 'retell.models'"
     ]
    }
   ],
   "source": [
    "from retell.models import (\n",
    "    Call,\n",
    "    CallResponse,\n",
    "    CallStatus,\n",
    "    TranscriptResponse,\n",
    "    CreateCallRequest,\n",
    ")\n"
   ]
  }
 ],
 "metadata": {
  "kernelspec": {
   "display_name": "tote",
   "language": "python",
   "name": "python3"
  },
  "language_info": {
   "codemirror_mode": {
    "name": "ipython",
    "version": 3
   },
   "file_extension": ".py",
   "mimetype": "text/x-python",
   "name": "python",
   "nbconvert_exporter": "python",
   "pygments_lexer": "ipython3",
   "version": "3.11.11"
  }
 },
 "nbformat": 4,
 "nbformat_minor": 2
}
