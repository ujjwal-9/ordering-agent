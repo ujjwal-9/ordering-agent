{
 "cells": [
  {
   "cell_type": "code",
   "execution_count": null,
   "metadata": {},
   "outputs": [
    {
     "name": "stdout",
     "output_type": "stream",
     "text": [
      "All in the game, yo\n"
     ]
    }
   ],
   "source": [
    "import os\n",
    "from twilio.rest import Client\n",
    "\n",
    "# Find your Account SID and Auth Token at twilio.com/console\n",
    "# and set the environment variables. See http://twil.io/secure\n",
    "account_sid = os.environ[\"TWILIO_ACCOUNT_ID\"]\n",
    "auth_token = os.environ[\"TWILIO_AUTH_TOKEN\"]\n",
    "client = Client(account_sid, auth_token)\n",
    "\n",
    "message = client.messages.create(\n",
    "    body=\"All in the game, yo\", from_=\"+16506704404\", to=\"+15715028427\"\n",
    ")\n",
    "\n",
    "print(message.body)\n"
   ]
  },
  {
   "cell_type": "code",
   "execution_count": 1,
   "metadata": {},
   "outputs": [],
   "source": [
    "import retell\n",
    "from retell import Retell\n"
   ]
  },
  {
   "cell_type": "code",
   "execution_count": 2,
   "metadata": {},
   "outputs": [],
   "source": [
    "client = Retell(api_key=\"key_f2e20f875ffdea11655fb4acaee7\")\n"
   ]
  },
  {
   "cell_type": "code",
   "execution_count": null,
   "metadata": {},
   "outputs": [
    {
     "data": {
      "text/plain": [
       "PhoneCallResponse(agent_id='agent_dd66951b01821079752d5035d4', call_id='call_aa33da5981078a6763f8c9461ab', call_status='registered', call_type='phone_call', direction='inbound', from_number=None, to_number=None, call_analysis=None, disconnection_reason=None, e2e_latency=None, end_timestamp=None, llm_latency=None, llm_websocket_network_rtt_latency=None, metadata=None, opt_out_sensitive_data_storage=False, public_log_url=None, recording_url=None, retell_llm_dynamic_variables=None, start_timestamp=None, transcript=None, transcript_object=None, transcript_with_tool_calls=None, latency={}, call_cost={'product_costs': [], 'total_duration_seconds': 0, 'total_duration_unit_price': 0, 'total_one_time_price': 0, 'combined_cost': 0})"
      ]
     },
     "execution_count": 5,
     "metadata": {},
     "output_type": "execute_result"
    }
   ],
   "source": [
    "client.call.register_phone_call(\n",
    "    agent_id=\"agent_dd66951b01821079752d5035d4\", direction=\"inbound\"\n",
    ")\n"
   ]
  },
  {
   "cell_type": "code",
   "execution_count": 11,
   "metadata": {},
   "outputs": [
    {
     "ename": "ModuleNotFoundError",
     "evalue": "No module named 'retell.models'",
     "output_type": "error",
     "traceback": [
      "\u001b[31m---------------------------------------------------------------------------\u001b[39m",
      "\u001b[31mModuleNotFoundError\u001b[39m                       Traceback (most recent call last)",
      "\u001b[36mCell\u001b[39m\u001b[36m \u001b[39m\u001b[32mIn[11]\u001b[39m\u001b[32m, line 1\u001b[39m\n\u001b[32m----> \u001b[39m\u001b[32m1\u001b[39m \u001b[38;5;28;01mfrom\u001b[39;00m\u001b[38;5;250m \u001b[39m\u001b[34;01mretell\u001b[39;00m\u001b[34;01m.\u001b[39;00m\u001b[34;01mmodels\u001b[39;00m\u001b[38;5;250m \u001b[39m\u001b[38;5;28;01mimport\u001b[39;00m (\n\u001b[32m      2\u001b[39m     Call,\n\u001b[32m      3\u001b[39m     CallResponse,\n\u001b[32m      4\u001b[39m     CallStatus,\n\u001b[32m      5\u001b[39m     TranscriptResponse,\n\u001b[32m      6\u001b[39m     CreateCallRequest,\n\u001b[32m      7\u001b[39m )\n",
      "\u001b[31mModuleNotFoundError\u001b[39m: No module named 'retell.models'"
     ]
    }
   ],
   "source": [
    "from retell.models import (\n",
    "    Call,\n",
    "    CallResponse,\n",
    "    CallStatus,\n",
    "    TranscriptResponse,\n",
    "    CreateCallRequest,\n",
    ")\n"
   ]
  }
 ],
 "metadata": {
  "kernelspec": {
   "display_name": "tote",
   "language": "python",
   "name": "python3"
  },
  "language_info": {
   "codemirror_mode": {
    "name": "ipython",
    "version": 3
   },
   "file_extension": ".py",
   "mimetype": "text/x-python",
   "name": "python",
   "nbconvert_exporter": "python",
   "pygments_lexer": "ipython3",
   "version": "3.11.11"
  }
 },
 "nbformat": 4,
 "nbformat_minor": 2
}
